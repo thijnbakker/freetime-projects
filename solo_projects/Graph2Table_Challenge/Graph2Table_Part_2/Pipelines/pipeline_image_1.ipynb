{
 "cells": [
  {
   "cell_type": "markdown",
   "metadata": {},
   "source": [
    "# The Full Pipeline of Image 1\n"
   ]
  },
  {
   "cell_type": "markdown",
   "metadata": {},
   "source": [
    "### At this pipeline we will use the code from both task a and b"
   ]
  },
  {
   "cell_type": "code",
   "execution_count": 10,
   "metadata": {},
   "outputs": [],
   "source": [
    "import cv2\n",
    "import numpy as np\n",
    "from sklearn.cluster import KMeans\n",
    "import os\n",
    "import pytesseract\n",
    "import csv\n",
    "import pandas as pd\n",
    "import easyocr\n",
    "from nltk.corpus import wordnet as wn\n",
    "from collections import Counter\n",
    "\n",
    "pytesseract.pytesseract.tesseract_cmd = r'C:\\Program Files\\Tesseract-OCR\\tesseract.exe'"
   ]
  },
  {
   "cell_type": "code",
   "execution_count": 11,
   "metadata": {},
   "outputs": [],
   "source": [
    "# %pip install easyocr\n",
    "# %pip install pytesseract\n",
    "# %pip install opencv-python"
   ]
  },
  {
   "cell_type": "markdown",
   "metadata": {},
   "source": [
    "### Get the Bar data"
   ]
  },
  {
   "cell_type": "code",
   "execution_count": 12,
   "metadata": {},
   "outputs": [],
   "source": [
    "image_path = os.path.join('dataset_part2', 'image_1.png')\n",
    "image = cv2.imread(image_path)\n",
    "image_rgb = cv2.cvtColor(image, cv2.COLOR_BGR2RGB)\n",
    "output_image = image.copy()\n",
    "\n",
    "# Mask out top 250 and bottom 50 px\n",
    "height = image_rgb.shape[0]\n",
    "roi = image_rgb[200:height-50, :, :]  # Keep only the middle section\n",
    "\n",
    "# Flatten ROI for clustering\n",
    "pixel_data = roi.reshape((-1, 3))\n",
    "\n",
    "# K-means clustering on ROI\n",
    "num_clusters = 15 \n",
    "kmeans = KMeans(n_clusters=num_clusters, random_state=42)\n",
    "labels = kmeans.fit_predict(pixel_data)\n",
    "segmented_roi = kmeans.cluster_centers_.astype(\"uint8\")[labels]\n",
    "segmented_roi = segmented_roi.reshape(roi.shape)\n",
    "\n",
    "# Create a blank full-size segmented image\n",
    "segmented_img = np.zeros_like(image_rgb)\n",
    "segmented_img[200:height-50] = segmented_roi\n",
    "\n",
    "\n",
    "# Prepare a blank mask image for each cluster\n",
    "detected_bars = []\n",
    "\n",
    "for i in range(num_clusters):\n",
    "    cluster_mask = (labels == i).reshape(roi.shape[:2]).astype(\"uint8\") * 255\n",
    "    full_mask = np.zeros(image_rgb.shape[:2], dtype=\"uint8\")\n",
    "    full_mask[200:height-50] = cluster_mask\n",
    "\n",
    "    # Optional cleanup\n",
    "    kernel = cv2.getStructuringElement(cv2.MORPH_RECT, (3, 3))\n",
    "    full_mask = cv2.morphologyEx(full_mask, cv2.MORPH_CLOSE, kernel)\n",
    "\n",
    "    # Find and draw contours\n",
    "    contours, _ = cv2.findContours(full_mask, cv2.RETR_EXTERNAL, cv2.CHAIN_APPROX_SIMPLE)\n",
    "    for cnt in contours:\n",
    "        x, y, w, h = cv2.boundingRect(cnt)\n",
    "        area = cv2.contourArea(cnt)\n",
    "\n",
    "        if area > 200 and w > 10 and h > 20:\n",
    "            detected_bars.append((x, y, w, h))\n",
    "            cv2.rectangle(output_image, (x, y), (x + w, y + h), (0, 255, 0), 2)\n",
    "\n"
   ]
  },
  {
   "cell_type": "code",
   "execution_count": 13,
   "metadata": {},
   "outputs": [],
   "source": [
    "# Exclude the biggest detected bar\n",
    "detected_bars_data = []\n",
    "max_area = max(detected_bars, key=lambda bar: bar[2] * bar[3])  # Find the bar with the largest area\n",
    "\n",
    "for (x, y, w, h) in detected_bars:\n",
    "    if (x, y, w, h) != max_area:  # Exclude the largest bar\n",
    "        detected_bars_data.append({\n",
    "            'x': x,\n",
    "            'y': y,\n",
    "            'width': w,\n",
    "            'height': h\n",
    "        })\n",
    "\n",
    "# Sort detected bars data by x-axis\n",
    "detected_bars_data_sorted = sorted(detected_bars_data, key=lambda bar: bar['x'])"
   ]
  },
  {
   "cell_type": "code",
   "execution_count": 14,
   "metadata": {},
   "outputs": [
    {
     "name": "stdout",
     "output_type": "stream",
     "text": [
      "Bar values list: ['4.3', '2.5', '3.5', '4.5', '2.4', '4.4', '1.8', '2.8', '2', '2', '3', '5']\n"
     ]
    }
   ],
   "source": [
    "# Load the image again for OCR\n",
    "image_path = os.path.join('dataset_part2', 'image_1.png')\n",
    "image = cv2.imread(image_path)\n",
    "\n",
    "# Convert to grayscale\n",
    "gray = cv2.cvtColor(image, cv2.COLOR_BGR2GRAY)\n",
    "\n",
    "# Apply slight thresholding to clean background\n",
    "_, thresh = cv2.threshold(gray, 180, 255, cv2.THRESH_BINARY)\n",
    "\n",
    "bar_value_mapping = {}\n",
    "\n",
    "for bar_data in detected_bars_data_sorted:\n",
    "    x, y, w, h = bar_data['x'], bar_data['y'], bar_data['width'], bar_data['height']\n",
    "    \n",
    "    # Define ROI above the bar\n",
    "    roi_y_start = max(0, y - 60)\n",
    "    roi_y_end = y - 5\n",
    "    roi = thresh[roi_y_start:roi_y_end, x:x + w]\n",
    "\n",
    "    # Enlarge ROI to help OCR\n",
    "    roi = cv2.resize(roi, None, fx=2, fy=2, interpolation=cv2.INTER_LINEAR)\n",
    "\n",
    "    # Run OCR just on digits\n",
    "    config = \"--psm 7 -c tessedit_char_whitelist=0123456789.\"\n",
    "    detected_text = pytesseract.image_to_string(roi, config=config).strip()\n",
    "\n",
    "    # Add a decimal point if two numbers are detected in a row\n",
    "    if len(detected_text) == 2 and detected_text.isdigit():\n",
    "        detected_text = f\"{detected_text[0]}.{detected_text[1]}\"\n",
    "\n",
    "    bar_value_mapping[(x, y, w, h)] = detected_text\n",
    "\n",
    "# Output\n",
    "bar_values = []\n",
    "for bar, value in bar_value_mapping.items():\n",
    "    bar_values.append(value)\n",
    "\n",
    "print(\"Bar values list:\", bar_values)"
   ]
  },
  {
   "cell_type": "code",
   "execution_count": 15,
   "metadata": {},
   "outputs": [
    {
     "name": "stdout",
     "output_type": "stream",
     "text": [
      "Bar title list: ['January', 'February', 'March', 'April', 'May', 'June', 'July', 'August', 'September', 'October', 'November', 'December']\n"
     ]
    }
   ],
   "source": [
    "# Dictionary to store bar coordinates and detected text\n",
    "bar_text_mapping = {}\n",
    "\n",
    "for bar in detected_bars_data_sorted:\n",
    "    x, y, width, height = bar['x'], bar['y'], bar['width'], bar['height']\n",
    "    \n",
    "    # Define ROI below the bar (adjust the height as needed)\n",
    "    roi_y_start = y + height + 10  # Start 10 pixels below the bar\n",
    "    roi_y_end = roi_y_start + 50  # Define height of the ROI\n",
    "    roi = image[roi_y_start:roi_y_end, x:x + width]\n",
    "    \n",
    "    # Perform OCR on the ROI\n",
    "    detected_text = pytesseract.image_to_string(roi, config='--psm 6').strip()\n",
    "    \n",
    "    # Map the detected text to the bar\n",
    "    bar_text_mapping[(x, y, width, height)] = detected_text\n",
    "\n",
    "# Print the mapping of bars to detected text\n",
    "bar_titles = []\n",
    "for bar, text in bar_text_mapping.items():\n",
    "    bar_titles.append(text)\n",
    "    \n",
    "print(\"Bar title list:\", bar_titles)"
   ]
  },
  {
   "cell_type": "markdown",
   "metadata": {},
   "source": [
    "### Get the title and column names"
   ]
  },
  {
   "cell_type": "markdown",
   "metadata": {},
   "source": [
    "### Title First"
   ]
  },
  {
   "cell_type": "code",
   "execution_count": 16,
   "metadata": {},
   "outputs": [
    {
     "name": "stderr",
     "output_type": "stream",
     "text": [
      "Neither CUDA nor MPS are available - defaulting to CPU. Note: This module is much faster with a GPU.\n"
     ]
    },
    {
     "name": "stdout",
     "output_type": "stream",
     "text": [
      "The extracted title is: ['Bar Graph PPT']\n"
     ]
    },
    {
     "data": {
      "text/plain": [
       "True"
      ]
     },
     "execution_count": 16,
     "metadata": {},
     "output_type": "execute_result"
    }
   ],
   "source": [
    "# Path to image\n",
    "image_path = 'dataset_part2/image_1.png'\n",
    "output_dir = 'output_bboxes'\n",
    "\n",
    "# Create output directory if it doesn't exist\n",
    "os.makedirs(output_dir, exist_ok=True)\n",
    "\n",
    "# Initialize EasyOCR reader\n",
    "reader = easyocr.Reader(['en'])\n",
    "\n",
    "# Read the image\n",
    "image = cv2.imread(image_path)\n",
    "\n",
    "# OCR text detection\n",
    "results = reader.readtext(image)\n",
    "title_text = []\n",
    "topmost_y = float('inf')\n",
    "\n",
    "for (bbox, text, confidence) in results:\n",
    "    if confidence > 0.1:\n",
    "        # bbox is a list of 4 points [(x0, y0), (x1, y1), (x2, y2), (x3, y3)]\n",
    "        top_left = tuple(map(int, bbox[0]))\n",
    "        bottom_right = tuple(map(int, bbox[2]))\n",
    "\n",
    "        cv2.rectangle(image, top_left, bottom_right, (0, 255, 0), 2)\n",
    "\n",
    "        y = top_left[1]\n",
    "        if y <= topmost_y + 10:\n",
    "            topmost_y = min(topmost_y, y)\n",
    "            title_text.append(text)\n",
    "\n",
    "print(f\"The extracted title is: {title_text}\")\n",
    "\n",
    "# Save output image\n",
    "output_path = os.path.join(output_dir, \"image_1_bboxes_easyocr.png\")\n",
    "cv2.imwrite(output_path, image)"
   ]
  },
  {
   "cell_type": "markdown",
   "metadata": {},
   "source": [
    "### Genreate my own category with NLTK"
   ]
  },
  {
   "cell_type": "code",
   "execution_count": 17,
   "metadata": {},
   "outputs": [
    {
     "name": "stdout",
     "output_type": "stream",
     "text": [
      "Final category: Gregorian calendar months\n"
     ]
    }
   ],
   "source": [
    "def get_common_categories(word_list):\n",
    "    all_categories = []\n",
    "\n",
    "    for word in word_list:\n",
    "        synsets = wn.synsets(word)\n",
    "        for syn in synsets:\n",
    "            for hyper in syn.hypernyms():\n",
    "                all_categories.extend(lemma.name() for lemma in hyper.lemmas())\n",
    "\n",
    "    category_counts = Counter(all_categories)\n",
    "    return category_counts.most_common()\n",
    "\n",
    "category = get_common_categories(bar_titles)\n",
    "\n",
    "# Top most common hypernym with modifications \n",
    "category_x = category[0][0].replace('_', ' ') + 's'  # Make sure it is plural \n",
    "print(\"Final category:\", category_x)"
   ]
  },
  {
   "cell_type": "markdown",
   "metadata": {},
   "source": [
    "### Save everything"
   ]
  },
  {
   "cell_type": "code",
   "execution_count": 18,
   "metadata": {},
   "outputs": [
    {
     "name": "stdout",
     "output_type": "stream",
     "text": [
      "CSV file 'Bar Graph PPT.csv' created successfully.\n",
      "   Gregorian calendar months Value\n",
      "0                    January   4.3\n",
      "1                   February   2.5\n",
      "2                      March   3.5\n",
      "3                      April   4.5\n",
      "4                        May   2.4\n",
      "5                       June   4.4\n",
      "6                       July   1.8\n",
      "7                     August   2.8\n",
      "8                  September     2\n",
      "9                    October     2\n",
      "10                  November     3\n",
      "11                  December     5\n"
     ]
    }
   ],
   "source": [
    "# Define the output CSV file path\n",
    "output_csv_path = f\"{'_'.join(title_text)}.csv\"\n",
    "\n",
    "# Combine bar text and values into rows\n",
    "rows = [{category_x: bar_text_mapping[(bar['x'], bar['y'], bar['width'], bar['height'])], 'Value': value} for bar, value in zip(detected_bars_data_sorted, bar_values)]\n",
    "\n",
    "# Write to CSV\n",
    "with open(output_csv_path, mode='w', newline='') as csv_file:\n",
    "    fieldnames = [category_x, 'Value']\n",
    "    writer = csv.DictWriter(csv_file, fieldnames=fieldnames)\n",
    "\n",
    "    writer.writeheader()\n",
    "    writer.writerows(rows)\n",
    "\n",
    "print(f\"CSV file '{output_csv_path}' created successfully.\")\n",
    "\n",
    "# Print final values in a df\n",
    "df = pd.DataFrame(rows)\n",
    "print(df)"
   ]
  }
 ],
 "metadata": {
  "kernelspec": {
   "display_name": "Block_C_9_10",
   "language": "python",
   "name": "python3"
  },
  "language_info": {
   "codemirror_mode": {
    "name": "ipython",
    "version": 3
   },
   "file_extension": ".py",
   "mimetype": "text/x-python",
   "name": "python",
   "nbconvert_exporter": "python",
   "pygments_lexer": "ipython3",
   "version": "3.9.21"
  }
 },
 "nbformat": 4,
 "nbformat_minor": 2
}
